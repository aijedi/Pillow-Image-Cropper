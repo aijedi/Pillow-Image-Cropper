{
 "cells": [
  {
   "cell_type": "markdown",
   "metadata": {},
   "source": [
    "# Simple Image Cropper\n",
    "\n",
    "Here we crop a given image to 4 parts .\n",
    "The Image directory structure is as follows :\n",
    "\n",
    "    train\n",
    "        1\n",
    "        2\n",
    "        3\n",
    "        4\n",
    "        \n",
    "    test\n",
    "        1\n",
    "        2\n",
    "        3\n",
    "        4"
   ]
  },
  {
   "cell_type": "code",
   "execution_count": 128,
   "metadata": {},
   "outputs": [],
   "source": [
    "import cv2\n",
    "import numpy as np\n",
    "%matplotlib inline\n",
    "from PIL import Image\n",
    "from keras.preprocessing.image import ImageDataGenerator"
   ]
  },
  {
   "cell_type": "code",
   "execution_count": 129,
   "metadata": {},
   "outputs": [],
   "source": [
    "img_width = 224\n",
    "img_height = 224\n",
    "batch_size = 32\n",
    "n_classes = 4"
   ]
  },
  {
   "cell_type": "code",
   "execution_count": 130,
   "metadata": {},
   "outputs": [],
   "source": [
    "import os"
   ]
  },
  {
   "cell_type": "code",
   "execution_count": 176,
   "metadata": {},
   "outputs": [
    {
     "name": "stdout",
     "output_type": "stream",
     "text": [
      "108 155 54 77\n",
      "(108, 155)\n"
     ]
    }
   ],
   "source": [
    "w = img.size[0]\n",
    "h = img.size[1]\n",
    "w1 = int(w*0.5)\n",
    "h1 = int(h*0.5)\n",
    "print(w,h,w1,h1)\n",
    "print(img.size)"
   ]
  },
  {
   "cell_type": "code",
   "execution_count": 178,
   "metadata": {},
   "outputs": [],
   "source": [
    "img2 = (img.crop((w1, 0,w, h1)))\n",
    "img2.show()"
   ]
  },
  {
   "cell_type": "markdown",
   "metadata": {},
   "source": [
    "cropped = img.crop( ( left, top, right, bottom ) )"
   ]
  },
  {
   "cell_type": "code",
   "execution_count": 179,
   "metadata": {},
   "outputs": [],
   "source": [
    "def crop_img(img, loc, img_name):\n",
    "    print(img.size)\n",
    "    w = img.size[0]\n",
    "    h = img.size[1] \n",
    "    \n",
    "    w1 = int(w*0.50)\n",
    "    h1 = int(h*0.50)\n",
    "    print(w,h,w1,h1)\n",
    "    area1 = (0, 0, w1, h1)   # top left\n",
    "    area2 = (0, h1, w1, h)   # bottom left\n",
    "    area3 = (w1, h1, w, h)   # bottom right\n",
    "    area4 = (w1, 0, w, h1)   # top right\n",
    "    \n",
    "    a1 = img.crop(area1)\n",
    "    print(a1)\n",
    "    dst1 = loc + img_name + str(1) +'.jpg'\n",
    "    a1.save(dst1)\n",
    "    a2 = img.crop(area2)\n",
    "    print(a2)\n",
    "    dst2 = loc + img_name + str(2) +'.jpg'\n",
    "    a2.save(dst2)\n",
    "    a3 = img.crop(area3)\n",
    "    print(a3)\n",
    "    dst3 = loc + img_name + str(3) + '.jpg'\n",
    "    a3.save(dst3) \n",
    "    a4 = img.crop(area4)\n",
    "    print(a4)\n",
    "    dst4 = loc + img_name + str(4) + '.jpg'\n",
    "    print(a4)\n",
    "    a4.save(dst4)"
   ]
  },
  {
   "cell_type": "code",
   "execution_count": 183,
   "metadata": {},
   "outputs": [
    {
     "name": "stdout",
     "output_type": "stream",
     "text": [
      "dataset1/test/1/\n",
      "['2b.jpg', '4b.jpg']\n",
      "2b.jpg\n",
      "(100, 109)\n",
      "100 109 50 54\n",
      "<PIL.Image.Image image mode=RGB size=50x54 at 0x15CC8F28>\n",
      "<PIL.Image.Image image mode=RGB size=50x55 at 0x15CC8128>\n",
      "<PIL.Image.Image image mode=RGB size=50x55 at 0x15CC8F60>\n",
      "<PIL.Image.Image image mode=RGB size=50x54 at 0x15CC8CC0>\n",
      "<PIL.Image.Image image mode=RGB size=50x54 at 0x15CC8CC0>\n",
      "4b.jpg\n",
      "(108, 155)\n",
      "108 155 54 77\n",
      "<PIL.Image.Image image mode=RGB size=54x77 at 0x15CC89E8>\n",
      "<PIL.Image.Image image mode=RGB size=54x78 at 0x15CC8358>\n",
      "<PIL.Image.Image image mode=RGB size=54x78 at 0x15CC82B0>\n",
      "<PIL.Image.Image image mode=RGB size=54x77 at 0x15CC85C0>\n",
      "<PIL.Image.Image image mode=RGB size=54x77 at 0x15CC85C0>\n"
     ]
    }
   ],
   "source": [
    "train_data_dir = 'dataset1/train/'\n",
    "validation_data_dir = 'dataset1/test/'\n",
    "\n",
    "labels =  ['1']\n",
    "for i in labels:\n",
    "    loc = validation_data_dir + i + '/'  \n",
    "    print(loc)\n",
    "    _img_name = os.listdir(loc)\n",
    "    print(_img_name)\n",
    "    for k in _img_name:\n",
    "        print(k)\n",
    "        img = Image.open(loc + k)\n",
    "        crop_img(img, loc, k)"
   ]
  },
  {
   "cell_type": "code",
   "execution_count": null,
   "metadata": {},
   "outputs": [],
   "source": []
  }
 ],
 "metadata": {
  "kernelspec": {
   "display_name": "Python 3",
   "language": "python",
   "name": "python3"
  },
  "language_info": {
   "codemirror_mode": {
    "name": "ipython",
    "version": 3
   },
   "file_extension": ".py",
   "mimetype": "text/x-python",
   "name": "python",
   "nbconvert_exporter": "python",
   "pygments_lexer": "ipython3",
   "version": "3.6.6"
  }
 },
 "nbformat": 4,
 "nbformat_minor": 2
}
